{
 "cells": [
  {
   "cell_type": "markdown",
   "metadata": {},
   "source": [
    "# Trump Tweets Analysis - Topic Modelling - NLP\n",
    "![trump_wordcloud](trump-03.png)\n",
    "\n",
    "This project intend to analyse Donald Trump's tweets from July 19th to December 16th 2020. I used Natural language Processing (NLP) methods to clean and analyse the tweets. \n",
    "\n",
    "The data were collected from [Kaggel](https://www.kaggle.com/gpreda/trump-tweets).\n",
    "\n",
    "\n",
    "Here are the steps that I followed:\n",
    "- Step 1: Read the dataset\n",
    "- Step 2: Explore the dataset\n",
    "- Step 3: Clean the dataset\n",
    "- Step 4: Tokenization\n",
    "- step 5: stopwords removal\n",
    "- step 6: Lemmatization\n",
    "- step 7: Topic modelling\n"
   ]
  },
  {
   "cell_type": "markdown",
   "metadata": {},
   "source": [
    "### Imports - Necessary Library"
   ]
  },
  {
   "cell_type": "code",
   "execution_count": 13,
   "metadata": {},
   "outputs": [],
   "source": [
    "import re #for regex\n",
    "import numpy as np # numerical python\n",
    "import nltk # Natural Language Toolkit\n",
    "from datetime import datetime,date, timedelta\n",
    "import seaborn as sns #plots\n",
    "import pandas as pd #manipulate and create dataframe\n",
    "from wordcloud import WordCloud #make wordcloud\n",
    "import matplotlib.pyplot as plt #plot\n",
    "from nltk.corpus import wordnet #\n",
    "from collections import Counter #counter\n",
    "from sklearn.decomposition import NMF\n",
    "from nltk.corpus import stopwords #list of stopwords\n",
    "from nltk import word_tokenize, pos_tag #tokenization\n",
    "from nltk.stem import WordNetLemmatizer #Lemmatization\n",
    "from sklearn.feature_extraction.text import TfidfVectorizer #TF-IDF vectorization\n",
    "from sklearn.feature_extraction.text import CountVectorizer"
   ]
  },
  {
   "cell_type": "markdown",
   "metadata": {},
   "source": [
    "### Functions definition"
   ]
  },
  {
   "cell_type": "code",
   "execution_count": 4,
   "metadata": {},
   "outputs": [],
   "source": [
    "def get_wordnet_pos(word):\n",
    "    \n",
    "    \"\"\"\n",
    "    Map POS tag to first character (for lemmatization)\n",
    "    :param word: a word in your dataset\n",
    "    :return: Part of speech tag\n",
    "    \"\"\"\n",
    "    tag = nltk.pos_tag([word])[0][1][0].upper()\n",
    "    tag_dict = {\"J\": wordnet.ADJ,\n",
    "                \"N\": wordnet.NOUN,\n",
    "                \"V\": wordnet.VERB,\n",
    "                \"R\": wordnet.ADV}\n",
    "\n",
    "    return tag_dict.get(tag, wordnet.NOUN)\n",
    "\n",
    "def get_month_day(date):\n",
    "    \"\"\"\n",
    "    Extract the month and the day in a date\n",
    "    :param word: a date\n",
    "    :return: the month and the day\n",
    "    \"\"\"\n",
    "    my_date = datetime.strptime(date, \"%Y-%m-%d\")\n",
    "    return my_date.strftime(\"%b %d\")\n",
    "\n",
    "def GetDaysList(dates):\n",
    "    \"\"\"\n",
    "    Get all days from the first date of the datset to the last date \n",
    "    of the dataset\n",
    "    :param dates: column of the dataset with the dates\n",
    "    :return: two list: a list with all dates and a epure list for the plots\n",
    "    \"\"\"\n",
    "    \n",
    "    date_list = []\n",
    "    for date in dates:\n",
    "        date_list.append(datetime.strptime(date.split()[0], \"%Y-%m-%d\"))\n",
    "    \n",
    "    max_date = max(date_list)\n",
    "    min_date = min(date_list)\n",
    "    delta = max_date - min_date\n",
    "    \n",
    "    all_dates = []\n",
    "    all_dates_epure = []\n",
    "    skip = 0\n",
    "    \n",
    "    for i in range(delta.days + 1):\n",
    "        day = min_date + timedelta(days=i)\n",
    "        all_dates.append(day.strftime(\"%b %d\"))\n",
    "        if i == skip:\n",
    "            all_dates_epure.append(day.strftime(\"%b %d\"))\n",
    "            skip += 5\n",
    "        else:\n",
    "            all_dates_epure.append(\"\")\n",
    "    \n",
    "    \n",
    "    return all_dates,all_dates_epure\n"
   ]
  },
  {
   "cell_type": "markdown",
   "metadata": {},
   "source": [
    "# Step 1: Read the Dataset"
   ]
  },
  {
   "cell_type": "code",
   "execution_count": 6,
   "metadata": {},
   "outputs": [],
   "source": [
    "trump_tweets = pd.read_csv(\"../trump_tweets.xls\") #read the data with pandas"
   ]
  },
  {
   "cell_type": "markdown",
   "metadata": {},
   "source": [
    "# Step 2: Explore the Dataset"
   ]
  },
  {
   "cell_type": "code",
   "execution_count": 7,
   "metadata": {},
   "outputs": [
    {
     "data": {
      "text/html": [
       "<div>\n",
       "<style scoped>\n",
       "    .dataframe tbody tr th:only-of-type {\n",
       "        vertical-align: middle;\n",
       "    }\n",
       "\n",
       "    .dataframe tbody tr th {\n",
       "        vertical-align: top;\n",
       "    }\n",
       "\n",
       "    .dataframe thead th {\n",
       "        text-align: right;\n",
       "    }\n",
       "</style>\n",
       "<table border=\"1\" class=\"dataframe\">\n",
       "  <thead>\n",
       "    <tr style=\"text-align: right;\">\n",
       "      <th></th>\n",
       "      <th>id</th>\n",
       "      <th>user_name</th>\n",
       "      <th>user_location</th>\n",
       "      <th>user_description</th>\n",
       "      <th>user_created</th>\n",
       "      <th>user_followers</th>\n",
       "      <th>user_friends</th>\n",
       "      <th>user_favourites</th>\n",
       "      <th>user_verified</th>\n",
       "      <th>date</th>\n",
       "      <th>text</th>\n",
       "      <th>hashtags</th>\n",
       "      <th>source</th>\n",
       "      <th>retweets</th>\n",
       "      <th>favorites</th>\n",
       "      <th>is_retweet</th>\n",
       "    </tr>\n",
       "  </thead>\n",
       "  <tbody>\n",
       "    <tr>\n",
       "      <th>0</th>\n",
       "      <td>1285299379746811915</td>\n",
       "      <td>Donald J. Trump</td>\n",
       "      <td>Washington, DC</td>\n",
       "      <td>45th President of the United States of America🇺🇸</td>\n",
       "      <td>2009-03-18 13:46:38</td>\n",
       "      <td>84262854</td>\n",
       "      <td>50</td>\n",
       "      <td>4</td>\n",
       "      <td>True</td>\n",
       "      <td>2020-07-20 19:43:46</td>\n",
       "      <td>We are United in our effort to defeat the Invi...</td>\n",
       "      <td>NaN</td>\n",
       "      <td>Twitter for iPhone</td>\n",
       "      <td>57356</td>\n",
       "      <td>323246</td>\n",
       "      <td>False</td>\n",
       "    </tr>\n",
       "    <tr>\n",
       "      <th>1</th>\n",
       "      <td>1285196013020610562</td>\n",
       "      <td>Donald J. Trump</td>\n",
       "      <td>Washington, DC</td>\n",
       "      <td>45th President of the United States of America🇺🇸</td>\n",
       "      <td>2009-03-18 13:46:38</td>\n",
       "      <td>84262854</td>\n",
       "      <td>50</td>\n",
       "      <td>4</td>\n",
       "      <td>True</td>\n",
       "      <td>2020-07-20 12:53:01</td>\n",
       "      <td>Congratulations Allen, great job! https://t.co...</td>\n",
       "      <td>NaN</td>\n",
       "      <td>Twitter for iPhone</td>\n",
       "      <td>20850</td>\n",
       "      <td>107710</td>\n",
       "      <td>False</td>\n",
       "    </tr>\n",
       "    <tr>\n",
       "      <th>2</th>\n",
       "      <td>1284899438591451137</td>\n",
       "      <td>Donald J. Trump</td>\n",
       "      <td>Washington, DC</td>\n",
       "      <td>45th President of the United States of America🇺🇸</td>\n",
       "      <td>2009-03-18 13:46:38</td>\n",
       "      <td>84262854</td>\n",
       "      <td>50</td>\n",
       "      <td>4</td>\n",
       "      <td>True</td>\n",
       "      <td>2020-07-19 17:14:33</td>\n",
       "      <td>So we catch Obama &amp;amp; Biden, not to even men...</td>\n",
       "      <td>NaN</td>\n",
       "      <td>Twitter for iPhone</td>\n",
       "      <td>74707</td>\n",
       "      <td>300712</td>\n",
       "      <td>False</td>\n",
       "    </tr>\n",
       "    <tr>\n",
       "      <th>3</th>\n",
       "      <td>1284894845614600194</td>\n",
       "      <td>Donald J. Trump</td>\n",
       "      <td>Washington, DC</td>\n",
       "      <td>45th President of the United States of America🇺🇸</td>\n",
       "      <td>2009-03-18 13:46:38</td>\n",
       "      <td>84262854</td>\n",
       "      <td>50</td>\n",
       "      <td>4</td>\n",
       "      <td>True</td>\n",
       "      <td>2020-07-19 16:56:18</td>\n",
       "      <td>The Radical Left Democrats, who totally contro...</td>\n",
       "      <td>NaN</td>\n",
       "      <td>Twitter for iPhone</td>\n",
       "      <td>39600</td>\n",
       "      <td>160630</td>\n",
       "      <td>False</td>\n",
       "    </tr>\n",
       "    <tr>\n",
       "      <th>4</th>\n",
       "      <td>1288503660264058880</td>\n",
       "      <td>Donald J. Trump</td>\n",
       "      <td>Washington, DC</td>\n",
       "      <td>45th President of the United States of America🇺🇸</td>\n",
       "      <td>2009-03-18 13:46:38</td>\n",
       "      <td>84328108</td>\n",
       "      <td>50</td>\n",
       "      <td>4</td>\n",
       "      <td>True</td>\n",
       "      <td>2020-07-29 15:56:26</td>\n",
       "      <td>I am in @AirForceOne_HQ flying to the Great St...</td>\n",
       "      <td>NaN</td>\n",
       "      <td>Twitter for iPhone</td>\n",
       "      <td>5727</td>\n",
       "      <td>23432</td>\n",
       "      <td>False</td>\n",
       "    </tr>\n",
       "  </tbody>\n",
       "</table>\n",
       "</div>"
      ],
      "text/plain": [
       "                    id        user_name   user_location  \\\n",
       "0  1285299379746811915  Donald J. Trump  Washington, DC   \n",
       "1  1285196013020610562  Donald J. Trump  Washington, DC   \n",
       "2  1284899438591451137  Donald J. Trump  Washington, DC   \n",
       "3  1284894845614600194  Donald J. Trump  Washington, DC   \n",
       "4  1288503660264058880  Donald J. Trump  Washington, DC   \n",
       "\n",
       "                                   user_description         user_created  \\\n",
       "0  45th President of the United States of America🇺🇸  2009-03-18 13:46:38   \n",
       "1  45th President of the United States of America🇺🇸  2009-03-18 13:46:38   \n",
       "2  45th President of the United States of America🇺🇸  2009-03-18 13:46:38   \n",
       "3  45th President of the United States of America🇺🇸  2009-03-18 13:46:38   \n",
       "4  45th President of the United States of America🇺🇸  2009-03-18 13:46:38   \n",
       "\n",
       "   user_followers  user_friends  user_favourites  user_verified  \\\n",
       "0        84262854            50                4           True   \n",
       "1        84262854            50                4           True   \n",
       "2        84262854            50                4           True   \n",
       "3        84262854            50                4           True   \n",
       "4        84328108            50                4           True   \n",
       "\n",
       "                  date                                               text  \\\n",
       "0  2020-07-20 19:43:46  We are United in our effort to defeat the Invi...   \n",
       "1  2020-07-20 12:53:01  Congratulations Allen, great job! https://t.co...   \n",
       "2  2020-07-19 17:14:33  So we catch Obama &amp; Biden, not to even men...   \n",
       "3  2020-07-19 16:56:18  The Radical Left Democrats, who totally contro...   \n",
       "4  2020-07-29 15:56:26  I am in @AirForceOne_HQ flying to the Great St...   \n",
       "\n",
       "  hashtags              source  retweets  favorites  is_retweet  \n",
       "0      NaN  Twitter for iPhone     57356     323246       False  \n",
       "1      NaN  Twitter for iPhone     20850     107710       False  \n",
       "2      NaN  Twitter for iPhone     74707     300712       False  \n",
       "3      NaN  Twitter for iPhone     39600     160630       False  \n",
       "4      NaN  Twitter for iPhone      5727      23432       False  "
      ]
     },
     "execution_count": 7,
     "metadata": {},
     "output_type": "execute_result"
    }
   ],
   "source": [
    "trump_tweets.head()"
   ]
  },
  {
   "cell_type": "code",
   "execution_count": 11,
   "metadata": {},
   "outputs": [
    {
     "name": "stdout",
     "output_type": "stream",
     "text": [
      "<class 'pandas.core.frame.DataFrame'>\n",
      "RangeIndex: 1791 entries, 0 to 1790\n",
      "Data columns (total 16 columns):\n",
      " #   Column            Non-Null Count  Dtype \n",
      "---  ------            --------------  ----- \n",
      " 0   id                1791 non-null   int64 \n",
      " 1   user_name         1791 non-null   object\n",
      " 2   user_location     1791 non-null   object\n",
      " 3   user_description  1791 non-null   object\n",
      " 4   user_created      1791 non-null   object\n",
      " 5   user_followers    1791 non-null   int64 \n",
      " 6   user_friends      1791 non-null   int64 \n",
      " 7   user_favourites   1791 non-null   int64 \n",
      " 8   user_verified     1791 non-null   bool  \n",
      " 9   date              1791 non-null   object\n",
      " 10  text              1791 non-null   object\n",
      " 11  hashtags          68 non-null     object\n",
      " 12  source            1791 non-null   object\n",
      " 13  retweets          1791 non-null   int64 \n",
      " 14  favorites         1791 non-null   int64 \n",
      " 15  is_retweet        1791 non-null   bool  \n",
      "dtypes: bool(2), int64(6), object(8)\n",
      "memory usage: 199.5+ KB\n"
     ]
    }
   ],
   "source": [
    "trump_tweets.info()"
   ]
  },
  {
   "cell_type": "markdown",
   "metadata": {},
   "source": [
    "The dataset contains 1791 tweets (rows) and 16 columns. The tweet are in the column text."
   ]
  },
  {
   "cell_type": "code",
   "execution_count": 15,
   "metadata": {},
   "outputs": [
    {
     "data": {
      "image/png": "[encoded data removed]",
      "text/plain": [
       "<Figure size 2160x1080 with 1 Axes>"
      ]
     },
     "metadata": {
      "needs_background": "light"
     },
     "output_type": "display_data"
    }
   ],
   "source": [
    "# Let's look at the number of tweet per day\n",
    "\n",
    "trump_tweets['year_month'] = [get_month_day(date.split()[0]) for date in trump_tweets['date']]\n",
    "trump_tweets_groupbydate = trump_tweets.groupby(['year_month'])\n",
    "\n",
    "all_dates,all_dates_epure = GetDaysList(trump_tweets['date'])\n",
    "all_dates_tweets = []\n",
    "\n",
    "for date in all_dates:\n",
    "    if date in trump_tweets_groupbydate.groups.keys():\n",
    "        all_dates_tweets.append(len(trump_tweets_groupbydate.groups[date]))\n",
    "    else:\n",
    "        all_dates_tweets.append(0)\n",
    "    \n",
    "plt.subplots(figsize =(30, 15))\n",
    "plt.rcParams[\"xtick.labelsize\"] = 26\n",
    "plt.rcParams[\"ytick.labelsize\"] = 26\n",
    "plt.rcParams[\"axes.labelsize\"] = 26\n",
    "plt.rcParams[\"axes.labelsize\"] = 26\n",
    "plt.xticks(range(len(all_dates_epure)), all_dates_epure,rotation = 70)\n",
    "plt.ylabel(\"Number of tweets\")\n",
    "plt.xlabel(\"Date\")\n",
    "plt.bar(all_dates,all_dates_tweets,linewidth=3,color = '#A4B5BF')\n",
    "plt.show()"
   ]
  },
  {
   "cell_type": "code",
   "execution_count": 21,
   "metadata": {},
   "outputs": [
    {
     "name": "stdout",
     "output_type": "stream",
     "text": [
      "\n",
      "The average number of tweets per day is 11.783\n",
      "with a standard deviation of 11.489\n",
      "\n"
     ]
    }
   ],
   "source": [
    "print(\"\"\"\n",
    "The average number of tweets per day is {0}\n",
    "with a standard deviation of {1}\n",
    "\"\"\".format(round(np.mean(all_dates_tweets),3),round(np.std(all_dates_tweets),3)))\n",
    "\n"
   ]
  },
  {
   "cell_type": "markdown",
   "metadata": {},
   "source": [
    "We can see that Trump did not tweet in september and neither at the en of November which seems wierd. \n",
    "I checked on his twitter account and he did tweet on those period. the dataset used ([Kaggel](https://www.kaggle.com/gpreda/trump-tweets)) missed data for september and end of november. "
   ]
  },
  {
   "cell_type": "code",
   "execution_count": 25,
   "metadata": {},
   "outputs": [
    {
     "data": {
      "image/png": "[encoded data removed]",
      "text/plain": [
       "<Figure size 1152x576 with 1 Axes>"
      ]
     },
     "metadata": {
      "needs_background": "light"
     },
     "output_type": "display_data"
    }
   ],
   "source": [
    "# Now let's see the number of tweets per hour\n",
    "trump_tweets['time'] = [date.split()[1] for date in trump_tweets['date']]\n",
    "trump_tweets['hour'] = [int(date.split(\":\")[0]) for date in trump_tweets['time']]\n",
    "trump_tweets_hour = trump_tweets.groupby(['hour'])\n",
    "nb_tweets_per_hour = [len(trump_tweets_hour.groups[i]) for i in range(0,24)]\n",
    "label_for_xticks = [\"{0}-{1}h\".format(i,i+1) for i in range(0,24)]\n",
    "\n",
    "\n",
    "#Plot\n",
    "plt.subplots(figsize =(16, 8))\n",
    "plt.rcParams[\"xtick.labelsize\"] = 14\n",
    "plt.rcParams[\"ytick.labelsize\"] = 14\n",
    "plt.rcParams[\"axes.labelsize\"] = 14\n",
    "plt.rcParams[\"axes.labelsize\"] = 14\n",
    "plt.xticks(range(len(label_for_xticks)), label_for_xticks,rotation = 70)\n",
    "plt.ylabel(\"Number of tweets\")\n",
    "plt.xlabel(\"Hour range\")\n",
    "plt.bar(range(0,24),nb_tweets_per_hour,linewidth=3,color='#D9C043')\n",
    "plt.show()\n"
   ]
  },
  {
   "cell_type": "markdown",
   "metadata": {},
   "source": [
    "We can see that trump is not tweeting much from 6 to 10 am and he is very active from noon."
   ]
  },
  {
   "cell_type": "markdown",
   "metadata": {},
   "source": [
    "# Step 3: Cleaning the Data\n"
   ]
  },
  {
   "cell_type": "code",
   "execution_count": 26,
   "metadata": {},
   "outputs": [
    {
     "name": "stdout",
     "output_type": "stream",
     "text": [
      "0       We are United in our effort to defeat the Invi...\n",
      "1       Congratulations Allen, great job! https://t.co...\n",
      "2       So we catch Obama &amp; Biden, not to even men...\n",
      "3       The Radical Left Democrats, who totally contro...\n",
      "4       I am in @AirForceOne_HQ flying to the Great St...\n",
      "                              ...                        \n",
      "1786    Thank you and congratulations to General Flynn...\n",
      "1787    .@BrianKempGA and puppet @GeoffDuncanGA. Your ...\n",
      "1788                    Or worse! https://t.co/a7zbQ4TSD7\n",
      "1789    Governor Kemp (@BrianKempGA) is down 18 points...\n",
      "1790    FOR COURAGE &amp; BRILLIANCE! https://t.co/mPM...\n",
      "Name: text, Length: 1791, dtype: object\n"
     ]
    }
   ],
   "source": [
    "# for the rest of this project I will just used the column containg the tweets\n",
    "tweets = trump_tweets['text']\n",
    "print(tweets)"
   ]
  },
  {
   "cell_type": "markdown",
   "metadata": {},
   "source": [
    "## Remove URL, Numbers and HTML code Inside Tweets"
   ]
  },
  {
   "cell_type": "markdown",
   "metadata": {},
   "source": [
    "Trump tweets can contains URL for journal articles or videos that need to be removed for the analysis. The numbers should also be removed. \n",
    "\n",
    "Let's see an example of tweet that includes an URL:"
   ]
  },
  {
   "cell_type": "code",
   "execution_count": 27,
   "metadata": {},
   "outputs": [
    {
     "name": "stdout",
     "output_type": "stream",
     "text": [
      "Congratulations Allen, great job! https://t.co/jjeUk1SwGm\n"
     ]
    }
   ],
   "source": [
    "print(tweets[1])"
   ]
  },
  {
   "cell_type": "markdown",
   "metadata": {},
   "source": [
    "Now let's remove the URLs using a regular expression"
   ]
  },
  {
   "cell_type": "code",
   "execution_count": 28,
   "metadata": {},
   "outputs": [
    {
     "name": "stdout",
     "output_type": "stream",
     "text": [
      "Congratulations Allen, great job! \n"
     ]
    }
   ],
   "source": [
    "tweets_wo_url = tweets.apply(lambda tweet: re.split('https:\\/\\/.*', str(tweet))[0])\n",
    "print(tweets_wo_url[1])"
   ]
  },
  {
   "cell_type": "code",
   "execution_count": 34,
   "metadata": {},
   "outputs": [
    {
     "name": "stdout",
     "output_type": "stream",
     "text": [
      "0       We are United in our effort to defeat the Invi...\n",
      "1                      Congratulations Allen, great job! \n",
      "2       So we catch Obama &amp; Biden, not to even men...\n",
      "3       The Radical Left Democrats, who totally contro...\n",
      "4       I am in @AirForceOne_HQ flying to the Great St...\n",
      "                              ...                        \n",
      "1786    Thank you and congratulations to General Flynn...\n",
      "1787    .@BrianKempGA and puppet @GeoffDuncanGA. Your ...\n",
      "1788                                           Or worse! \n",
      "1789    Governor Kemp (@BrianKempGA) is down  points i...\n",
      "1790                       FOR COURAGE &amp; BRILLIANCE! \n",
      "Name: text, Length: 1791, dtype: object\n"
     ]
    }
   ],
   "source": [
    "#We also need to remove the number and sepecial characters of the tweets:\n",
    "tweets_wo_url_no_number = tweets_wo_url.str.replace('\\d+', '') #Remove number\n",
    "tweets_wo_url_no_number = tweets_wo_url_no_number.str.replace(' amp ', ' ')\n",
    "print(tweets_wo_url_no_number)"
   ]
  },
  {
   "cell_type": "markdown",
   "metadata": {},
   "source": [
    "## Lowercase "
   ]
  },
  {
   "cell_type": "code",
   "execution_count": 35,
   "metadata": {},
   "outputs": [
    {
     "name": "stdout",
     "output_type": "stream",
     "text": [
      "0       we are united in our effort to defeat the invi...\n",
      "1                      congratulations allen, great job! \n",
      "2       so we catch obama &amp; biden, not to even men...\n",
      "3       the radical left democrats, who totally contro...\n",
      "4       i am in @airforceone_hq flying to the great st...\n",
      "                              ...                        \n",
      "1786    thank you and congratulations to general flynn...\n",
      "1787    .@briankempga and puppet @geoffduncanga. your ...\n",
      "1788                                           or worse! \n",
      "1789    governor kemp (@briankempga) is down  points i...\n",
      "1790                       for courage &amp; brilliance! \n",
      "Name: text, Length: 1791, dtype: object\n"
     ]
    }
   ],
   "source": [
    "tweets_lower_case = tweets_wo_url_no_number.str.lower()\n",
    "print(tweets_lower_case)"
   ]
  },
  {
   "cell_type": "markdown",
   "metadata": {},
   "source": [
    "## Ponctuation removal"
   ]
  },
  {
   "cell_type": "code",
   "execution_count": 37,
   "metadata": {},
   "outputs": [
    {
     "name": "stdout",
     "output_type": "stream",
     "text": [
      "0       we are united in our effort to defeat the invi...\n",
      "1                        congratulations allen great job \n",
      "2       so we catch obama amp biden not to even mentio...\n",
      "3       the radical left democrats who totally control...\n",
      "4       i am in airforceone_hq flying to the great sta...\n",
      "                              ...                        \n",
      "1786    thank you and congratulations to general flynn...\n",
      "1787    briankempga and puppet geoffduncanga your poll...\n",
      "1788                                            or worse \n",
      "1789    governor kemp briankempga is down  points in a...\n",
      "1790                          for courage amp brilliance \n",
      "Name: text, Length: 1791, dtype: object\n"
     ]
    }
   ],
   "source": [
    "tweets_no_ponctuations = tweets_lower_case.str.replace('[^\\w\\s]','')\n",
    "print(tweets_no_ponctuations)"
   ]
  },
  {
   "cell_type": "markdown",
   "metadata": {},
   "source": [
    "## Tokenization"
   ]
  },
  {
   "cell_type": "code",
   "execution_count": 40,
   "metadata": {},
   "outputs": [
    {
     "name": "stdout",
     "output_type": "stream",
     "text": [
      "0       [we, are, united, in, our, effort, to, defeat,...\n",
      "1                    [congratulations, allen, great, job]\n",
      "2       [so, we, catch, obama, amp, biden, not, to, ev...\n",
      "3       [the, radical, left, democrats, who, totally, ...\n",
      "4       [i, am, in, airforceone_hq, flying, to, the, g...\n",
      "                              ...                        \n",
      "1786    [thank, you, and, congratulations, to, general...\n",
      "1787    [briankempga, and, puppet, geoffduncanga, your...\n",
      "1788                                          [or, worse]\n",
      "1789    [governor, kemp, briankempga, is, down, points...\n",
      "1790                      [for, courage, amp, brilliance]\n",
      "Name: text, Length: 1791, dtype: object\n"
     ]
    }
   ],
   "source": [
    "tweets_tokenized = tweets_no_ponctuations.apply(nltk.word_tokenize)\n",
    "print(tweets_tokenized)"
   ]
  },
  {
   "cell_type": "markdown",
   "metadata": {},
   "source": [
    "## Stopwords removal"
   ]
  },
  {
   "cell_type": "code",
   "execution_count": 42,
   "metadata": {},
   "outputs": [
    {
     "name": "stdout",
     "output_type": "stream",
     "text": [
      "0       [united, effort, defeat, invisible, china, vir...\n",
      "1                    [congratulations, allen, great, job]\n",
      "2       [catch, obama, amp, biden, even, mention, rest...\n",
      "3       [radical, left, democrats, totally, control, b...\n",
      "4       [airforceone_hq, flying, great, state, texas, ...\n",
      "                              ...                        \n",
      "1786    [thank, congratulations, general, flynn, incre...\n",
      "1787    [briankempga, puppet, geoffduncanga, poll, num...\n",
      "1788                                              [worse]\n",
      "1789    [governor, kemp, briankempga, points, recent, ...\n",
      "1790                           [courage, amp, brilliance]\n",
      "Name: text, Length: 1791, dtype: object\n"
     ]
    }
   ],
   "source": [
    "stop = stopwords.words('english')\n",
    "tweets_tokenized_no_stopwords = tweets_tokenized.apply(lambda token: [item for item in token if item not in stop])\n",
    "print(tweets_tokenized_no_stopwords)"
   ]
  },
  {
   "cell_type": "code",
   "execution_count": null,
   "metadata": {},
   "outputs": [],
   "source": []
  }
 ],
 "metadata": {
  "kernelspec": {
   "display_name": "Python 3",
   "language": "python",
   "name": "python3"
  },
  "language_info": {
   "codemirror_mode": {
    "name": "ipython",
    "version": 3
   },
   "file_extension": ".py",
   "mimetype": "text/x-python",
   "name": "python",
   "nbconvert_exporter": "python",
   "pygments_lexer": "ipython3",
   "version": "3.6.12"
  }
 },
 "nbformat": 4,
 "nbformat_minor": 4
}
