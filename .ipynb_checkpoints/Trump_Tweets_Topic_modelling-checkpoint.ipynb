{
 "cells": [
  {
   "cell_type": "markdown",
   "metadata": {},
   "source": [
    "# Trump Tweets Analysis - Topic Modelling - NLP\n",
    "![trump_wordcloud](trump-03.png)\n",
    "\n",
    "This project intend to analyse Donald Trump's tweets from July 19th to December 16th 2020. I use Natural language Processing (NLP) methods to clean and analyse the tweets. \n",
    "\n",
    "The data were collected from [Kaggel](https://www.kaggle.com/gpreda/trump-tweets).\n",
    "\n",
    "\n",
    "Here are the steps that I followed:\n",
    "- Step 1: Read the dataset\n",
    "- Step 2: Explore the dataset\n",
    "- Step 3: Clean the dataset\n",
    "- Step 4: Tokenization\n",
    "- step 5: stopwords removal\n",
    "- step 6: Lemmatization\n",
    "- step 7: Topic modelling\n"
   ]
  },
  {
   "cell_type": "markdown",
   "metadata": {},
   "source": [
    "### Imports - Necessary Library"
   ]
  },
  {
   "cell_type": "code",
   "execution_count": 2,
   "metadata": {},
   "outputs": [],
   "source": [
    "import re #for regex\n",
    "import numpy as np # numerical python\n",
    "import nltk # Natural Language Toolkit\n",
    "from datetime import date, timedelta\n",
    "import seaborn as sns #plots\n",
    "import pandas as pd #manipulate and create dataframe\n",
    "from wordcloud import WordCloud #make wordcloud\n",
    "import matplotlib.pyplot as plt #plot\n",
    "from nltk.corpus import wordnet #\n",
    "from collections import Counter #counter\n",
    "from sklearn.decomposition import NMF\n",
    "from nltk.corpus import stopwords #list of stopwords\n",
    "from nltk import word_tokenize, pos_tag #tokenization\n",
    "from nltk.stem import WordNetLemmatizer #Lemmatization\n",
    "from sklearn.feature_extraction.text import TfidfVectorizer #TF-IDF vectorization\n",
    "from sklearn.feature_extraction.text import CountVectorizer"
   ]
  },
  {
   "cell_type": "markdown",
   "metadata": {},
   "source": [
    "### Functions definition"
   ]
  },
  {
   "cell_type": "code",
   "execution_count": 3,
   "metadata": {},
   "outputs": [],
   "source": [
    "def get_wordnet_pos(word):\n",
    "    \n",
    "    \"\"\"\n",
    "    Map POS tag to first character (for lemmatization)\n",
    "    :param word: a word in your dataset\n",
    "    :return: Part of speech tag\n",
    "    \"\"\"\n",
    "    tag = nltk.pos_tag([word])[0][1][0].upper()\n",
    "    tag_dict = {\"J\": wordnet.ADJ,\n",
    "                \"N\": wordnet.NOUN,\n",
    "                \"V\": wordnet.VERB,\n",
    "                \"R\": wordnet.ADV}\n",
    "\n",
    "    return tag_dict.get(tag, wordnet.NOUN)\n",
    "\n",
    "def get_month_day(date):\n",
    "    \"\"\"\n",
    "    Extract the moth and the \n",
    "    :param word: a word in your dataset\n",
    "    :return: Part of speech tag\n",
    "    \"\"\"\n",
    "    my_date = datetime.strptime(date, \"%Y-%m-%d\")\n",
    "    return my_date.strftime(\"%b %d\")\n",
    "\n",
    "def GetDaysList(dates):\n",
    "    date_list = []\n",
    "    for date in dates:\n",
    "        date_list.append(datetime.strptime(date.split()[0], \"%Y-%m-%d\"))\n",
    "    \n",
    "    max_date = max(date_list)\n",
    "    min_date = min(date_list)\n",
    "    delta = max_date - min_date\n",
    "    \n",
    "    all_dates = []\n",
    "    all_dates_epure = []\n",
    "    \n",
    "    skip = 0\n",
    "    \n",
    "    for i in range(delta.days + 1):\n",
    "        day = min_date + timedelta(days=i)\n",
    "        all_dates.append(day.strftime(\"%b %d\"))\n",
    "        \n",
    "        if i == skip:\n",
    "            all_dates_epure.append(day.strftime(\"%b %d\"))\n",
    "            skip += 5\n",
    "        else:\n",
    "            all_dates_epure.append(\"\")\n",
    "    \n",
    "    \n",
    "    return all_dates,all_dates_epure\n"
   ]
  },
  {
   "cell_type": "code",
   "execution_count": null,
   "metadata": {},
   "outputs": [],
   "source": []
  }
 ],
 "metadata": {
  "kernelspec": {
   "display_name": "Python 3",
   "language": "python",
   "name": "python3"
  },
  "language_info": {
   "codemirror_mode": {
    "name": "ipython",
    "version": 3
   },
   "file_extension": ".py",
   "mimetype": "text/x-python",
   "name": "python",
   "nbconvert_exporter": "python",
   "pygments_lexer": "ipython3",
   "version": "3.6.12"
  }
 },
 "nbformat": 4,
 "nbformat_minor": 4
}
